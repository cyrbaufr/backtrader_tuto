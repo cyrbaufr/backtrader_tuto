{
 "cells": [
  {
   "cell_type": "markdown",
   "id": "b8e82ab5",
   "metadata": {},
   "source": [
    "# Add new columns to a Datafeed"
   ]
  },
  {
   "cell_type": "markdown",
   "id": "65ef6f5c",
   "metadata": {},
   "source": [
    "To use Backtrader, the standard process is to import datafeeds with basic information like prices (OHLC), volumes and open interests. However, I can be useful to add other fields:  \n",
    "- **Indicators**: This way, it is faster to develop and run strategies in Backtrader as the results of the indicators are already available and do not need to be computed using loops.  \n",
    "- **Fundamental or sentiment data**: anything can be added as extra columns."
   ]
  },
  {
   "cell_type": "markdown",
   "id": "f086c63f",
   "metadata": {},
   "source": [
    "To do this, we need to create a class inheriting from backtrader.feeds.GenericCSVData.  \n",
    "See https://www.backtrader.com/docu/extending-a-datafeed/#plotting-that-extra-pe-line"
   ]
  },
  {
   "cell_type": "code",
   "execution_count": null,
   "id": "afdf1a03",
   "metadata": {},
   "outputs": [],
   "source": [
    "from backtrader.feeds import GenericCSVData\n",
    "\n",
    "class GenericCSV_PE(GenericCSVData):\n",
    "\n",
    "    # Add a 'pe' line to the inherited ones from the base class\n",
    "    lines = ('pe',)\n",
    "\n",
    "    # openinterest in GenericCSVData has index 7 ... add 1\n",
    "    # add the parameter to the parameters inherited from the base class\n",
    "    params = (('pe', 8),)\n"
   ]
  }
 ],
 "metadata": {
  "kernelspec": {
   "display_name": "Python 3 (ipykernel)",
   "language": "python",
   "name": "python3"
  },
  "language_info": {
   "codemirror_mode": {
    "name": "ipython",
    "version": 3
   },
   "file_extension": ".py",
   "mimetype": "text/x-python",
   "name": "python",
   "nbconvert_exporter": "python",
   "pygments_lexer": "ipython3",
   "version": "3.8.10"
  }
 },
 "nbformat": 4,
 "nbformat_minor": 5
}
